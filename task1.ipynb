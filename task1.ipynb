{
  "nbformat": 4,
  "nbformat_minor": 0,
  "metadata": {
    "colab": {
      "provenance": [],
      "authorship_tag": "ABX9TyP3yrT/PB3TG8x30/1iSdMg",
      "include_colab_link": true
    },
    "kernelspec": {
      "name": "python3",
      "display_name": "Python 3"
    },
    "language_info": {
      "name": "python"
    }
  },
  "cells": [
    {
      "cell_type": "markdown",
      "metadata": {
        "id": "view-in-github",
        "colab_type": "text"
      },
      "source": [
        "<a href=\"https://colab.research.google.com/github/mehekswain74/movie_recommendation_system/blob/main/task1.ipynb\" target=\"_parent\"><img src=\"https://colab.research.google.com/assets/colab-badge.svg\" alt=\"Open In Colab\"/></a>"
      ]
    },
    {
      "cell_type": "code",
      "execution_count": null,
      "metadata": {
        "id": "NSwbRCiCmZua"
      },
      "outputs": [],
      "source": [
        "import streamlit as st\n",
        "import pickle\n",
        "import pandas as pd\n",
        "import requests"
      ]
    },
    {
      "cell_type": "code",
      "source": [
        "def fetch_poster(movie_id):\n",
        "  responce=requests.get('http://www.omdbapi.com/?i=tt3896198&apikey=2a8cdbfc')\n",
        "  data=responce.json()\n",
        "  return data['Poster']\n",
        "\n",
        "def recommend(movie):\n",
        "  movie_index=movies[movies['title']==movie].index[0]\n",
        "  distances=similarity[movie_index]\n",
        "  movies_list=sorted(list(enumerate(distances)),reverse=True,key=lambda x:x[1])[1:6]\n",
        "  recommended_movies=[]\n",
        "  recommended_movies_poster=[]\n",
        "  for i in movies_list:\n",
        "    movie_id=movies.iloc[i[0]].movie_id\n",
        "    recommended_movies.append(movies.iloc[i[0]].title)\n",
        "    recommended_movies_poster.append(fetch_poster(movie_id))\n",
        "  return recommended_movies,recommended_movies_poster\n",
        "\n",
        "movies_dict=pickle.load(open('/content/movies_dict.pkl','rb'))\n",
        "movies=pd.DataFrame(movies_dict)\n",
        "st.title('Movie Recommender System')\n",
        "similarity=pickle.load(open('/content/similarity.pkl','rb'))\n",
        "\n",
        "option=st.selectbox('How would you like to be contacted?',movies['title'].values)\n",
        "if st.button('Recommend'):\n",
        "  names,posters=recommend(option)\n",
        "  col1,col2,col3,col4,col5=st.columns(5)\n",
        "  with col1:\n",
        "    st.text(names[0])\n",
        "    st.image(posters[0])\n",
        "\n",
        "  with col2:\n",
        "    st.text(names[1])\n",
        "    st.image(posters[1])\n",
        "\n",
        "  with col3:\n",
        "    st.text(names[2])\n",
        "    st.image(posters[2])\n",
        "\n",
        "  with col4:\n",
        "    st.text(names[3])\n",
        "    st.image(posters[3])\n",
        "\n",
        "  with col5:\n",
        "    st.text(names[4])\n",
        "    st.image(posters[4])\n",
        "\n",
        "\n"
      ],
      "metadata": {
        "id": "rlgU4k7Gm5We"
      },
      "execution_count": null,
      "outputs": []
    },
    {
      "cell_type": "code",
      "source": [],
      "metadata": {
        "id": "NaValcwws7c-"
      },
      "execution_count": null,
      "outputs": []
    }
  ]
}